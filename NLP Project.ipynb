{
 "cells": [
  {
   "cell_type": "code",
   "execution_count": 1,
   "id": "5a592bfe",
   "metadata": {},
   "outputs": [],
   "source": [
    "import spacy\n",
    "\n",
    "# load english language model and create nlp object from it\n",
    "nlp = spacy.load(\"en_core_web_sm\") \n",
    "\n",
    "def preprocess(text):\n",
    "    # remove stop words and lemmatize the text\n",
    "    doc = nlp(text)\n",
    "    filtered_tokens = []\n",
    "    for token in doc:\n",
    "        if token.is_stop or token.is_punct:\n",
    "            continue\n",
    "        filtered_tokens.append(token.lemma_)\n",
    "    \n",
    "    return \" \".join(filtered_tokens) "
   ]
  },
  {
   "cell_type": "code",
   "execution_count": 7,
   "id": "982e0175",
   "metadata": {},
   "outputs": [
    {
     "name": "stdout",
     "output_type": "stream",
     "text": [
      "(209527, 2)\n"
     ]
    }
   ],
   "source": [
    "import pandas as pd\n",
    "\n",
    "df = pd.read_json('C:/Users/TopTechnology/Desktop/NLP Project/News_Category_Dataset_v3.json', lines=True)[['headline', 'category']]\n",
    "\n",
    "print(df.shape)"
   ]
  },
  {
   "cell_type": "code",
   "execution_count": 14,
   "id": "ae54b95f",
   "metadata": {},
   "outputs": [
    {
     "data": {
      "text/html": [
       "<div>\n",
       "<style scoped>\n",
       "    .dataframe tbody tr th:only-of-type {\n",
       "        vertical-align: middle;\n",
       "    }\n",
       "\n",
       "    .dataframe tbody tr th {\n",
       "        vertical-align: top;\n",
       "    }\n",
       "\n",
       "    .dataframe thead th {\n",
       "        text-align: right;\n",
       "    }\n",
       "</style>\n",
       "<table border=\"1\" class=\"dataframe\">\n",
       "  <thead>\n",
       "    <tr style=\"text-align: right;\">\n",
       "      <th></th>\n",
       "      <th>headline</th>\n",
       "      <th>category</th>\n",
       "    </tr>\n",
       "  </thead>\n",
       "  <tbody>\n",
       "    <tr>\n",
       "      <th>0</th>\n",
       "      <td>Over 4 Million Americans Roll Up Sleeves For O...</td>\n",
       "      <td>U.S. NEWS</td>\n",
       "    </tr>\n",
       "    <tr>\n",
       "      <th>1</th>\n",
       "      <td>American Airlines Flyer Charged, Banned For Li...</td>\n",
       "      <td>U.S. NEWS</td>\n",
       "    </tr>\n",
       "    <tr>\n",
       "      <th>2</th>\n",
       "      <td>23 Of The Funniest Tweets About Cats And Dogs ...</td>\n",
       "      <td>COMEDY</td>\n",
       "    </tr>\n",
       "    <tr>\n",
       "      <th>3</th>\n",
       "      <td>The Funniest Tweets From Parents This Week (Se...</td>\n",
       "      <td>PARENTING</td>\n",
       "    </tr>\n",
       "    <tr>\n",
       "      <th>4</th>\n",
       "      <td>Woman Who Called Cops On Black Bird-Watcher Lo...</td>\n",
       "      <td>U.S. NEWS</td>\n",
       "    </tr>\n",
       "  </tbody>\n",
       "</table>\n",
       "</div>"
      ],
      "text/plain": [
       "                                            headline   category\n",
       "0  Over 4 Million Americans Roll Up Sleeves For O...  U.S. NEWS\n",
       "1  American Airlines Flyer Charged, Banned For Li...  U.S. NEWS\n",
       "2  23 Of The Funniest Tweets About Cats And Dogs ...     COMEDY\n",
       "3  The Funniest Tweets From Parents This Week (Se...  PARENTING\n",
       "4  Woman Who Called Cops On Black Bird-Watcher Lo...  U.S. NEWS"
      ]
     },
     "execution_count": 14,
     "metadata": {},
     "output_type": "execute_result"
    }
   ],
   "source": [
    "df.head()"
   ]
  },
  {
   "cell_type": "code",
   "execution_count": 15,
   "id": "bef6d9e9",
   "metadata": {},
   "outputs": [
    {
     "data": {
      "text/plain": [
       "category\n",
       "POLITICS          35602\n",
       "WELLNESS          17945\n",
       "ENTERTAINMENT     17362\n",
       "TRAVEL             9900\n",
       "STYLE & BEAUTY     9814\n",
       "PARENTING          8791\n",
       "HEALTHY LIVING     6694\n",
       "QUEER VOICES       6347\n",
       "FOOD & DRINK       6340\n",
       "BUSINESS           5992\n",
       "COMEDY             5400\n",
       "SPORTS             5077\n",
       "BLACK VOICES       4583\n",
       "HOME & LIVING      4320\n",
       "PARENTS            3955\n",
       "THE WORLDPOST      3664\n",
       "WEDDINGS           3653\n",
       "WOMEN              3572\n",
       "CRIME              3562\n",
       "IMPACT             3484\n",
       "DIVORCE            3426\n",
       "WORLD NEWS         3299\n",
       "MEDIA              2944\n",
       "WEIRD NEWS         2777\n",
       "GREEN              2622\n",
       "WORLDPOST          2579\n",
       "RELIGION           2577\n",
       "STYLE              2254\n",
       "SCIENCE            2206\n",
       "TECH               2104\n",
       "TASTE              2096\n",
       "MONEY              1756\n",
       "ARTS               1509\n",
       "ENVIRONMENT        1444\n",
       "FIFTY              1401\n",
       "GOOD NEWS          1398\n",
       "U.S. NEWS          1377\n",
       "ARTS & CULTURE     1339\n",
       "COLLEGE            1144\n",
       "LATINO VOICES      1130\n",
       "CULTURE & ARTS     1074\n",
       "EDUCATION          1014\n",
       "Name: count, dtype: int64"
      ]
     },
     "execution_count": 15,
     "metadata": {},
     "output_type": "execute_result"
    }
   ],
   "source": [
    "df.category.value_counts()"
   ]
  },
  {
   "cell_type": "code",
   "execution_count": 16,
   "id": "68c31090",
   "metadata": {},
   "outputs": [
    {
     "data": {
      "text/html": [
       "<div>\n",
       "<style scoped>\n",
       "    .dataframe tbody tr th:only-of-type {\n",
       "        vertical-align: middle;\n",
       "    }\n",
       "\n",
       "    .dataframe tbody tr th {\n",
       "        vertical-align: top;\n",
       "    }\n",
       "\n",
       "    .dataframe thead th {\n",
       "        text-align: right;\n",
       "    }\n",
       "</style>\n",
       "<table border=\"1\" class=\"dataframe\">\n",
       "  <thead>\n",
       "    <tr style=\"text-align: right;\">\n",
       "      <th></th>\n",
       "      <th>headline</th>\n",
       "      <th>category</th>\n",
       "    </tr>\n",
       "  </thead>\n",
       "  <tbody>\n",
       "    <tr>\n",
       "      <th>2</th>\n",
       "      <td>23 Of The Funniest Tweets About Cats And Dogs ...</td>\n",
       "      <td>COMEDY</td>\n",
       "    </tr>\n",
       "    <tr>\n",
       "      <th>17</th>\n",
       "      <td>Maury Wills, Base-Stealing Shortstop For Dodge...</td>\n",
       "      <td>SPORTS</td>\n",
       "    </tr>\n",
       "    <tr>\n",
       "      <th>26</th>\n",
       "      <td>Las Vegas Aces Win First WNBA Title, Chelsea G...</td>\n",
       "      <td>SPORTS</td>\n",
       "    </tr>\n",
       "    <tr>\n",
       "      <th>61</th>\n",
       "      <td>Boston Marathon To Make Race More Inclusive Fo...</td>\n",
       "      <td>SPORTS</td>\n",
       "    </tr>\n",
       "    <tr>\n",
       "      <th>62</th>\n",
       "      <td>Anthony Varvaro, MLB Pitcher Turned Transit Co...</td>\n",
       "      <td>SPORTS</td>\n",
       "    </tr>\n",
       "  </tbody>\n",
       "</table>\n",
       "</div>"
      ],
      "text/plain": [
       "                                             headline category\n",
       "2   23 Of The Funniest Tweets About Cats And Dogs ...   COMEDY\n",
       "17  Maury Wills, Base-Stealing Shortstop For Dodge...   SPORTS\n",
       "26  Las Vegas Aces Win First WNBA Title, Chelsea G...   SPORTS\n",
       "61  Boston Marathon To Make Race More Inclusive Fo...   SPORTS\n",
       "62  Anthony Varvaro, MLB Pitcher Turned Transit Co...   SPORTS"
      ]
     },
     "execution_count": 16,
     "metadata": {},
     "output_type": "execute_result"
    }
   ],
   "source": [
    "desired_categories = ['CRIME', 'COMEDY', 'EDUCATION', 'SPORTS']\n",
    "df_new = df[df['category'].isin(desired_categories)]\n",
    "df_new.head()"
   ]
  },
  {
   "cell_type": "code",
   "execution_count": 17,
   "id": "2f8f103b",
   "metadata": {},
   "outputs": [
    {
     "name": "stdout",
     "output_type": "stream",
     "text": [
      "(15053,)\n",
      "(15053,)\n"
     ]
    }
   ],
   "source": [
    "print(df_new.headline.shape)\n",
    "print(df_new.category.shape)"
   ]
  },
  {
   "cell_type": "code",
   "execution_count": 18,
   "id": "92dfa15b",
   "metadata": {},
   "outputs": [
    {
     "data": {
      "text/plain": [
       "category\n",
       "COMEDY       5400\n",
       "SPORTS       5077\n",
       "CRIME        3562\n",
       "EDUCATION    1014\n",
       "Name: count, dtype: int64"
      ]
     },
     "execution_count": 18,
     "metadata": {},
     "output_type": "execute_result"
    }
   ],
   "source": [
    "df_new.category.value_counts()"
   ]
  },
  {
   "cell_type": "code",
   "execution_count": 19,
   "id": "441dc786",
   "metadata": {},
   "outputs": [],
   "source": [
    "min_samples = 1014 # we have these many EDUCATION articles \n",
    "\n",
    "\n",
    "df_comedy = df_new[df_new.category==\"COMEDY\"].sample(min_samples, random_state=2022)\n",
    "df_sports = df_new[df_new.category==\"SPORTS\"].sample(min_samples, random_state=2022)\n",
    "df_crime = df_new[df_new.category==\"CRIME\"].sample(min_samples, random_state=2022)\n",
    "df_education = df_new[df_new.category==\"EDUCATION\"].sample(min_samples, random_state=2022)"
   ]
  },
  {
   "cell_type": "code",
   "execution_count": 21,
   "id": "5c33b598",
   "metadata": {},
   "outputs": [
    {
     "data": {
      "text/plain": [
       "category\n",
       "COMEDY       1014\n",
       "SPORTS       1014\n",
       "CRIME        1014\n",
       "EDUCATION    1014\n",
       "Name: count, dtype: int64"
      ]
     },
     "execution_count": 21,
     "metadata": {},
     "output_type": "execute_result"
    }
   ],
   "source": [
    "df_balanced = pd.concat([df_comedy,df_sports,df_crime,df_education],axis=0)\n",
    "df_balanced.category.value_counts()"
   ]
  },
  {
   "cell_type": "code",
   "execution_count": 22,
   "id": "71ce2c3b",
   "metadata": {},
   "outputs": [],
   "source": [
    "df_balanced['category_num'] = df_balanced['category'].map({\n",
    "    'COMEDY': 0,\n",
    "    'SPORTS': 1, \n",
    "    'CRIME': 2, \n",
    "    'EDUCATION': 3\n",
    "})"
   ]
  },
  {
   "cell_type": "code",
   "execution_count": 23,
   "id": "eee4932a",
   "metadata": {},
   "outputs": [
    {
     "data": {
      "text/html": [
       "<div>\n",
       "<style scoped>\n",
       "    .dataframe tbody tr th:only-of-type {\n",
       "        vertical-align: middle;\n",
       "    }\n",
       "\n",
       "    .dataframe tbody tr th {\n",
       "        vertical-align: top;\n",
       "    }\n",
       "\n",
       "    .dataframe thead th {\n",
       "        text-align: right;\n",
       "    }\n",
       "</style>\n",
       "<table border=\"1\" class=\"dataframe\">\n",
       "  <thead>\n",
       "    <tr style=\"text-align: right;\">\n",
       "      <th></th>\n",
       "      <th>headline</th>\n",
       "      <th>category</th>\n",
       "      <th>category_num</th>\n",
       "    </tr>\n",
       "  </thead>\n",
       "  <tbody>\n",
       "    <tr>\n",
       "      <th>15312</th>\n",
       "      <td>Trevor Noah Calls Out Hillary Clinton, And He'...</td>\n",
       "      <td>COMEDY</td>\n",
       "      <td>0</td>\n",
       "    </tr>\n",
       "    <tr>\n",
       "      <th>126777</th>\n",
       "      <td>What Sorcery Is This?</td>\n",
       "      <td>COMEDY</td>\n",
       "      <td>0</td>\n",
       "    </tr>\n",
       "    <tr>\n",
       "      <th>47238</th>\n",
       "      <td>Hi, Death? I'd Like To Speak To Your Manager, ...</td>\n",
       "      <td>COMEDY</td>\n",
       "      <td>0</td>\n",
       "    </tr>\n",
       "    <tr>\n",
       "      <th>119663</th>\n",
       "      <td>...New Again?</td>\n",
       "      <td>COMEDY</td>\n",
       "      <td>0</td>\n",
       "    </tr>\n",
       "    <tr>\n",
       "      <th>30724</th>\n",
       "      <td>There Was No Audio, So We Captioned The Trump ...</td>\n",
       "      <td>COMEDY</td>\n",
       "      <td>0</td>\n",
       "    </tr>\n",
       "  </tbody>\n",
       "</table>\n",
       "</div>"
      ],
      "text/plain": [
       "                                                 headline category  \\\n",
       "15312   Trevor Noah Calls Out Hillary Clinton, And He'...   COMEDY   \n",
       "126777                              What Sorcery Is This?   COMEDY   \n",
       "47238   Hi, Death? I'd Like To Speak To Your Manager, ...   COMEDY   \n",
       "119663                                      ...New Again?   COMEDY   \n",
       "30724   There Was No Audio, So We Captioned The Trump ...   COMEDY   \n",
       "\n",
       "        category_num  \n",
       "15312              0  \n",
       "126777             0  \n",
       "47238              0  \n",
       "119663             0  \n",
       "30724              0  "
      ]
     },
     "execution_count": 23,
     "metadata": {},
     "output_type": "execute_result"
    }
   ],
   "source": [
    "df_balanced.head()"
   ]
  },
  {
   "cell_type": "code",
   "execution_count": 24,
   "id": "b3817505",
   "metadata": {},
   "outputs": [
    {
     "data": {
      "text/html": [
       "<div>\n",
       "<style scoped>\n",
       "    .dataframe tbody tr th:only-of-type {\n",
       "        vertical-align: middle;\n",
       "    }\n",
       "\n",
       "    .dataframe tbody tr th {\n",
       "        vertical-align: top;\n",
       "    }\n",
       "\n",
       "    .dataframe thead th {\n",
       "        text-align: right;\n",
       "    }\n",
       "</style>\n",
       "<table border=\"1\" class=\"dataframe\">\n",
       "  <thead>\n",
       "    <tr style=\"text-align: right;\">\n",
       "      <th></th>\n",
       "      <th>headline</th>\n",
       "      <th>category</th>\n",
       "      <th>category_num</th>\n",
       "    </tr>\n",
       "  </thead>\n",
       "  <tbody>\n",
       "    <tr>\n",
       "      <th>111169</th>\n",
       "      <td>The Global Search for Education: Our Global To...</td>\n",
       "      <td>EDUCATION</td>\n",
       "      <td>3</td>\n",
       "    </tr>\n",
       "    <tr>\n",
       "      <th>106643</th>\n",
       "      <td>Reflections of an Octogenarian IV: Whatever Ha...</td>\n",
       "      <td>EDUCATION</td>\n",
       "      <td>3</td>\n",
       "    </tr>\n",
       "    <tr>\n",
       "      <th>32087</th>\n",
       "      <td>For The Future Of Education, Answer The Callin...</td>\n",
       "      <td>EDUCATION</td>\n",
       "      <td>3</td>\n",
       "    </tr>\n",
       "    <tr>\n",
       "      <th>37277</th>\n",
       "      <td>America's Charter Schools Have A Commitment Pr...</td>\n",
       "      <td>EDUCATION</td>\n",
       "      <td>3</td>\n",
       "    </tr>\n",
       "    <tr>\n",
       "      <th>125885</th>\n",
       "      <td>3 Tips for Using Video Interviews to Hire Grea...</td>\n",
       "      <td>EDUCATION</td>\n",
       "      <td>3</td>\n",
       "    </tr>\n",
       "  </tbody>\n",
       "</table>\n",
       "</div>"
      ],
      "text/plain": [
       "                                                 headline   category  \\\n",
       "111169  The Global Search for Education: Our Global To...  EDUCATION   \n",
       "106643  Reflections of an Octogenarian IV: Whatever Ha...  EDUCATION   \n",
       "32087   For The Future Of Education, Answer The Callin...  EDUCATION   \n",
       "37277   America's Charter Schools Have A Commitment Pr...  EDUCATION   \n",
       "125885  3 Tips for Using Video Interviews to Hire Grea...  EDUCATION   \n",
       "\n",
       "        category_num  \n",
       "111169             3  \n",
       "106643             3  \n",
       "32087              3  \n",
       "37277              3  \n",
       "125885             3  "
      ]
     },
     "execution_count": 24,
     "metadata": {},
     "output_type": "execute_result"
    }
   ],
   "source": [
    "df_balanced.tail()"
   ]
  },
  {
   "cell_type": "code",
   "execution_count": 25,
   "id": "88f5ab3e",
   "metadata": {},
   "outputs": [],
   "source": [
    "from sklearn.model_selection import train_test_split\n",
    "\n",
    "X_train, X_test, y_train, y_test = train_test_split(\n",
    "    df_balanced.headline, \n",
    "    df_balanced.category_num, \n",
    "    test_size=0.2, # 20% samples will go to test dataset\n",
    "    random_state=2023,\n",
    "    stratify=df_balanced.category_num\n",
    ")"
   ]
  },
  {
   "cell_type": "code",
   "execution_count": 26,
   "id": "2114a200",
   "metadata": {},
   "outputs": [
    {
     "name": "stdout",
     "output_type": "stream",
     "text": [
      "(3244,)\n"
     ]
    },
    {
     "data": {
      "text/plain": [
       "1506      Prosecution Rests In Sex-abuse Trial Of Ghisla...\n",
       "92574     Jury Moves Closer To Death Penalty In James Ho...\n",
       "47816     In A Crappy Year, These Sports Moments Brought...\n",
       "92386     Shots Reported For 2nd Day At Mississippi Mili...\n",
       "113680                              Stop Lying to Yourself!\n",
       "Name: headline, dtype: object"
      ]
     },
     "execution_count": 26,
     "metadata": {},
     "output_type": "execute_result"
    }
   ],
   "source": [
    "print(X_train.shape)\n",
    "X_train.head()"
   ]
  },
  {
   "cell_type": "code",
   "execution_count": 27,
   "id": "8113e156",
   "metadata": {},
   "outputs": [
    {
     "data": {
      "text/plain": [
       "category_num\n",
       "2    811\n",
       "1    811\n",
       "3    811\n",
       "0    811\n",
       "Name: count, dtype: int64"
      ]
     },
     "execution_count": 27,
     "metadata": {},
     "output_type": "execute_result"
    }
   ],
   "source": [
    "y_train.value_counts()"
   ]
  },
  {
   "cell_type": "code",
   "execution_count": 28,
   "id": "5468d137",
   "metadata": {},
   "outputs": [
    {
     "data": {
      "text/plain": [
       "category_num\n",
       "1    203\n",
       "3    203\n",
       "2    203\n",
       "0    203\n",
       "Name: count, dtype: int64"
      ]
     },
     "execution_count": 28,
     "metadata": {},
     "output_type": "execute_result"
    }
   ],
   "source": [
    "y_test.value_counts()"
   ]
  },
  {
   "cell_type": "code",
   "execution_count": 29,
   "id": "abd1f2d0",
   "metadata": {},
   "outputs": [
    {
     "name": "stdout",
     "output_type": "stream",
     "text": [
      "              precision    recall  f1-score   support\n",
      "\n",
      "           0       0.86      0.81      0.84       203\n",
      "           1       0.82      0.79      0.80       203\n",
      "           2       0.87      0.91      0.89       203\n",
      "           3       0.84      0.89      0.86       203\n",
      "\n",
      "    accuracy                           0.85       812\n",
      "   macro avg       0.85      0.85      0.85       812\n",
      "weighted avg       0.85      0.85      0.85       812\n",
      "\n"
     ]
    }
   ],
   "source": [
    "from sklearn.naive_bayes import MultinomialNB\n",
    "from sklearn.pipeline import Pipeline\n",
    "from sklearn.metrics import classification_report\n",
    "\n",
    "#1. create a pipeline object\n",
    "clf = Pipeline([\n",
    "     ('vectorizer_bow', CountVectorizer(ngram_range = (1, 1))), #using the ngram_range parameter \n",
    "     ('Multi NB', MultinomialNB())         \n",
    "])\n",
    "\n",
    "#2. fit with X_train and y_train\n",
    "clf.fit(X_train, y_train)\n",
    "\n",
    "\n",
    "#3. get the predictions for X_test and store it in y_pred\n",
    "y_pred = clf.predict(X_test)\n",
    "\n",
    "\n",
    "#4. print the classfication report\n",
    "print(classification_report(y_test, y_pred))"
   ]
  },
  {
   "cell_type": "code",
   "execution_count": 30,
   "id": "36ebaa6a",
   "metadata": {},
   "outputs": [
    {
     "data": {
      "text/plain": [
       "65762    11 Law Professors Say Tom Brady Is Right And T...\n",
       "19832                  Florida's Teacher Gap Is No Mystery\n",
       "85480    Richard Sherman Explains A Weekly Contradictio...\n",
       "20592    Teacher Seniority: The Seat Belts Of The Educa...\n",
       "95561    What to Watch for in the FIFA Case, Part 5: Va...\n",
       "80283    Shoplifter Shot And Killed After Running Over ...\n",
       "94008    F1 Driver Jules Bianchi Dies 9 Months After Su...\n",
       "93093    Jen Welter To Become First Female Coach In NFL...\n",
       "Name: headline, dtype: object"
      ]
     },
     "execution_count": 30,
     "metadata": {},
     "output_type": "execute_result"
    }
   ],
   "source": [
    "X_test[:8]"
   ]
  },
  {
   "cell_type": "code",
   "execution_count": 31,
   "id": "013a4188",
   "metadata": {},
   "outputs": [
    {
     "data": {
      "text/plain": [
       "array([1, 3, 1, 3, 3, 2, 2, 1], dtype=int64)"
      ]
     },
     "execution_count": 31,
     "metadata": {},
     "output_type": "execute_result"
    }
   ],
   "source": [
    "y_pred[:8]"
   ]
  },
  {
   "cell_type": "code",
   "execution_count": 32,
   "id": "c5ce0df0",
   "metadata": {},
   "outputs": [
    {
     "name": "stdout",
     "output_type": "stream",
     "text": [
      "              precision    recall  f1-score   support\n",
      "\n",
      "           0       0.84      0.81      0.83       203\n",
      "           1       0.83      0.77      0.80       203\n",
      "           2       0.87      0.92      0.89       203\n",
      "           3       0.84      0.87      0.86       203\n",
      "\n",
      "    accuracy                           0.84       812\n",
      "   macro avg       0.84      0.84      0.84       812\n",
      "weighted avg       0.84      0.84      0.84       812\n",
      "\n"
     ]
    }
   ],
   "source": [
    "#1. create a pipeline object\n",
    "clf = Pipeline([\n",
    "    ('vectorizer_1_2_gram', CountVectorizer(ngram_range = (1, 2))),        #using the ngram_range parameter \n",
    "     ('Multi NB', MultinomialNB())         \n",
    "])\n",
    "\n",
    "#2. fit with X_train and y_train\n",
    "clf.fit(X_train, y_train)\n",
    "\n",
    "\n",
    "#3. get the predictions for X_test and store it in y_pred\n",
    "y_pred = clf.predict(X_test)\n",
    "\n",
    "\n",
    "#4. print the classfication report\n",
    "print(classification_report(y_test, y_pred))"
   ]
  },
  {
   "cell_type": "code",
   "execution_count": 33,
   "id": "078dfd62",
   "metadata": {},
   "outputs": [
    {
     "name": "stdout",
     "output_type": "stream",
     "text": [
      "              precision    recall  f1-score   support\n",
      "\n",
      "           0       0.83      0.82      0.83       203\n",
      "           1       0.83      0.77      0.80       203\n",
      "           2       0.86      0.92      0.89       203\n",
      "           3       0.85      0.87      0.86       203\n",
      "\n",
      "    accuracy                           0.84       812\n",
      "   macro avg       0.84      0.84      0.84       812\n",
      "weighted avg       0.84      0.84      0.84       812\n",
      "\n"
     ]
    }
   ],
   "source": [
    "#1. create a pipeline object\n",
    "clf = Pipeline([\n",
    "    ('vectorizer_1_3_grams', CountVectorizer(ngram_range = (1, 3))),        #using the ngram_range parameter \n",
    "     ('Multi NB', MultinomialNB())         \n",
    "])\n",
    "\n",
    "#2. fit with X_train and y_train\n",
    "clf.fit(X_train, y_train)\n",
    "\n",
    "\n",
    "#3. get the predictions for X_test and store it in y_pred\n",
    "y_pred = clf.predict(X_test)\n",
    "\n",
    "\n",
    "#4. print the classfication report\n",
    "print(classification_report(y_test, y_pred))"
   ]
  },
  {
   "cell_type": "code",
   "execution_count": 34,
   "id": "4febfb3b",
   "metadata": {},
   "outputs": [],
   "source": [
    "df_balanced['preprocessed_txt'] = df_balanced['headline'].apply(preprocess) "
   ]
  },
  {
   "cell_type": "code",
   "execution_count": 35,
   "id": "4795924f",
   "metadata": {},
   "outputs": [
    {
     "data": {
      "text/html": [
       "<div>\n",
       "<style scoped>\n",
       "    .dataframe tbody tr th:only-of-type {\n",
       "        vertical-align: middle;\n",
       "    }\n",
       "\n",
       "    .dataframe tbody tr th {\n",
       "        vertical-align: top;\n",
       "    }\n",
       "\n",
       "    .dataframe thead th {\n",
       "        text-align: right;\n",
       "    }\n",
       "</style>\n",
       "<table border=\"1\" class=\"dataframe\">\n",
       "  <thead>\n",
       "    <tr style=\"text-align: right;\">\n",
       "      <th></th>\n",
       "      <th>headline</th>\n",
       "      <th>category</th>\n",
       "      <th>category_num</th>\n",
       "      <th>preprocessed_txt</th>\n",
       "    </tr>\n",
       "  </thead>\n",
       "  <tbody>\n",
       "    <tr>\n",
       "      <th>15312</th>\n",
       "      <td>Trevor Noah Calls Out Hillary Clinton, And He'...</td>\n",
       "      <td>COMEDY</td>\n",
       "      <td>0</td>\n",
       "      <td>Trevor Noah call Hillary Clinton joke</td>\n",
       "    </tr>\n",
       "    <tr>\n",
       "      <th>126777</th>\n",
       "      <td>What Sorcery Is This?</td>\n",
       "      <td>COMEDY</td>\n",
       "      <td>0</td>\n",
       "      <td>Sorcery</td>\n",
       "    </tr>\n",
       "    <tr>\n",
       "      <th>47238</th>\n",
       "      <td>Hi, Death? I'd Like To Speak To Your Manager, ...</td>\n",
       "      <td>COMEDY</td>\n",
       "      <td>0</td>\n",
       "      <td>Hi Death like speak Manager</td>\n",
       "    </tr>\n",
       "    <tr>\n",
       "      <th>119663</th>\n",
       "      <td>...New Again?</td>\n",
       "      <td>COMEDY</td>\n",
       "      <td>0</td>\n",
       "      <td>New</td>\n",
       "    </tr>\n",
       "    <tr>\n",
       "      <th>30724</th>\n",
       "      <td>There Was No Audio, So We Captioned The Trump ...</td>\n",
       "      <td>COMEDY</td>\n",
       "      <td>0</td>\n",
       "      <td>audio caption Trump Putin Meeting</td>\n",
       "    </tr>\n",
       "  </tbody>\n",
       "</table>\n",
       "</div>"
      ],
      "text/plain": [
       "                                                 headline category  \\\n",
       "15312   Trevor Noah Calls Out Hillary Clinton, And He'...   COMEDY   \n",
       "126777                              What Sorcery Is This?   COMEDY   \n",
       "47238   Hi, Death? I'd Like To Speak To Your Manager, ...   COMEDY   \n",
       "119663                                      ...New Again?   COMEDY   \n",
       "30724   There Was No Audio, So We Captioned The Trump ...   COMEDY   \n",
       "\n",
       "        category_num                       preprocessed_txt  \n",
       "15312              0  Trevor Noah call Hillary Clinton joke  \n",
       "126777             0                                Sorcery  \n",
       "47238              0            Hi Death like speak Manager  \n",
       "119663             0                                    New  \n",
       "30724              0      audio caption Trump Putin Meeting  "
      ]
     },
     "execution_count": 35,
     "metadata": {},
     "output_type": "execute_result"
    }
   ],
   "source": [
    "df_balanced.head()"
   ]
  },
  {
   "cell_type": "code",
   "execution_count": 36,
   "id": "c0d6d08d",
   "metadata": {},
   "outputs": [],
   "source": [
    "X_train, X_test, y_train, y_test = train_test_split(\n",
    "    df_balanced.preprocessed_txt, \n",
    "    df_balanced.category_num, \n",
    "    test_size=0.2, # 20% samples will go to test dataset\n",
    "    random_state=2023,\n",
    "    stratify=df_balanced.category_num\n",
    ")"
   ]
  },
  {
   "cell_type": "code",
   "execution_count": 37,
   "id": "ff0fcb20",
   "metadata": {},
   "outputs": [
    {
     "name": "stdout",
     "output_type": "stream",
     "text": [
      "(3244,)\n"
     ]
    },
    {
     "data": {
      "text/plain": [
       "1506      prosecution Rests sex abuse Trial Ghislaine Ma...\n",
       "92574      jury move close Death Penalty James Holmes Trial\n",
       "47816                  Crappy Year Sports Moments bring Joy\n",
       "92386         shot report 2nd Day Mississippi Military Site\n",
       "113680                                             stop lie\n",
       "Name: preprocessed_txt, dtype: object"
      ]
     },
     "execution_count": 37,
     "metadata": {},
     "output_type": "execute_result"
    }
   ],
   "source": [
    "print(X_train.shape)\n",
    "X_train.head()"
   ]
  },
  {
   "cell_type": "code",
   "execution_count": 38,
   "id": "268e48ac",
   "metadata": {},
   "outputs": [
    {
     "data": {
      "text/plain": [
       "category_num\n",
       "2    811\n",
       "1    811\n",
       "3    811\n",
       "0    811\n",
       "Name: count, dtype: int64"
      ]
     },
     "execution_count": 38,
     "metadata": {},
     "output_type": "execute_result"
    }
   ],
   "source": [
    "y_train.value_counts()"
   ]
  },
  {
   "cell_type": "code",
   "execution_count": null,
   "id": "dba1b275",
   "metadata": {},
   "outputs": [],
   "source": []
  }
 ],
 "metadata": {
  "kernelspec": {
   "display_name": "Python 3 (ipykernel)",
   "language": "python",
   "name": "python3"
  },
  "language_info": {
   "codemirror_mode": {
    "name": "ipython",
    "version": 3
   },
   "file_extension": ".py",
   "mimetype": "text/x-python",
   "name": "python",
   "nbconvert_exporter": "python",
   "pygments_lexer": "ipython3",
   "version": "3.11.5"
  }
 },
 "nbformat": 4,
 "nbformat_minor": 5
}
